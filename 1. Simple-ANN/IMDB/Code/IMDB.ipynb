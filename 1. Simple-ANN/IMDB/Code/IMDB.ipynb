{
 "cells": [
  {
   "cell_type": "code",
   "execution_count": 1,
   "metadata": {},
   "outputs": [
    {
     "name": "stderr",
     "output_type": "stream",
     "text": [
      "Using TensorFlow backend.\n",
      "/home/ab/anaconda3/lib/python3.6/importlib/_bootstrap.py:219: RuntimeWarning: compiletime version 3.5 of module 'tensorflow.python.framework.fast_tensor_util' does not match runtime version 3.6\n",
      "  return f(*args, **kwds)\n"
     ]
    }
   ],
   "source": [
    "from keras import models\n",
    "from keras import layers"
   ]
  },
  {
   "cell_type": "code",
   "execution_count": 2,
   "metadata": {
    "collapsed": true
   },
   "outputs": [],
   "source": [
    "from keras.datasets import imdb"
   ]
  },
  {
   "cell_type": "markdown",
   "metadata": {},
   "source": [
    "<strong> \n",
    "keras downloads the dataset\n",
    "</strong>"
   ]
  },
  {
   "cell_type": "code",
   "execution_count": 3,
   "metadata": {
    "collapsed": true
   },
   "outputs": [],
   "source": [
    "(train_data, train_labels), (test_data, test_labels) = imdb.load_data(num_words=10000)"
   ]
  },
  {
   "cell_type": "code",
   "execution_count": 4,
   "metadata": {},
   "outputs": [
    {
     "data": {
      "text/plain": [
       "9927"
      ]
     },
     "execution_count": 4,
     "metadata": {},
     "output_type": "execute_result"
    }
   ],
   "source": [
    "max(max(test_data))"
   ]
  },
  {
   "cell_type": "code",
   "execution_count": 5,
   "metadata": {},
   "outputs": [
    {
     "data": {
      "text/plain": [
       "9995"
      ]
     },
     "execution_count": 5,
     "metadata": {},
     "output_type": "execute_result"
    }
   ],
   "source": [
    "max(max(train_data))"
   ]
  },
  {
   "cell_type": "markdown",
   "metadata": {},
   "source": [
    "We have maxmium col of 88455"
   ]
  },
  {
   "cell_type": "code",
   "execution_count": 6,
   "metadata": {
    "collapsed": true
   },
   "outputs": [],
   "source": [
    "import numpy as np\n",
    "def vectorize_sequence(data,dimensions=10000):\n",
    "    result = np.zeros((len(data),dimensions))\n",
    "    for i,sequence in enumerate(data):\n",
    "        result[i, sequence] =1\n",
    "    return result"
   ]
  },
  {
   "cell_type": "code",
   "execution_count": 7,
   "metadata": {
    "collapsed": true
   },
   "outputs": [],
   "source": [
    "x_train = vectorize_sequence(train_data)"
   ]
  },
  {
   "cell_type": "code",
   "execution_count": 8,
   "metadata": {
    "collapsed": true
   },
   "outputs": [],
   "source": [
    "x_test = vectorize_sequence(test_data)"
   ]
  },
  {
   "cell_type": "code",
   "execution_count": 9,
   "metadata": {
    "collapsed": true
   },
   "outputs": [],
   "source": [
    "y_train = np.asarray(train_labels).astype('float32')"
   ]
  },
  {
   "cell_type": "code",
   "execution_count": 10,
   "metadata": {
    "collapsed": true
   },
   "outputs": [],
   "source": [
    "y_test = np.asarray(test_labels).astype('float32')"
   ]
  },
  {
   "cell_type": "markdown",
   "metadata": {},
   "source": [
    "Prepare the model"
   ]
  },
  {
   "cell_type": "code",
   "execution_count": 44,
   "metadata": {},
   "outputs": [],
   "source": [
    "from keras import optimizers\n",
    "from keras import metrics\n",
    "from keras import losses\n",
    "def get_model(unit1=16,unit2=16):\n",
    "    \n",
    "    model = models.Sequential()\n",
    "    model.add(layer=layers.Dense(units=unit1,activation=\"relu\",input_shape=(x_train.shape[1],)))\n",
    "    model.add(layer=layers.Dense(units=unit2,activation='relu'))\n",
    "    model.add(layer=layers.Dense(units=1,activation='sigmoid'))\n",
    "    model.compile(optimizer=optimizers.RMSprop(lr=0.001), loss=losses.binary_crossentropy,\n",
    "             metrics = [metrics.binary_accuracy]\n",
    "             )\n",
    "    return model"
   ]
  },
  {
   "cell_type": "code",
   "execution_count": 45,
   "metadata": {},
   "outputs": [],
   "source": [
    "model = get_model()"
   ]
  },
  {
   "cell_type": "code",
   "execution_count": 46,
   "metadata": {},
   "outputs": [
    {
     "name": "stdout",
     "output_type": "stream",
     "text": [
      "_________________________________________________________________\n",
      "Layer (type)                 Output Shape              Param #   \n",
      "=================================================================\n",
      "dense_4 (Dense)              (None, 16)                160016    \n",
      "_________________________________________________________________\n",
      "dense_5 (Dense)              (None, 16)                272       \n",
      "_________________________________________________________________\n",
      "dense_6 (Dense)              (None, 1)                 17        \n",
      "=================================================================\n",
      "Total params: 160,305\n",
      "Trainable params: 160,305\n",
      "Non-trainable params: 0\n",
      "_________________________________________________________________\n"
     ]
    }
   ],
   "source": [
    "model.summary()"
   ]
  },
  {
   "cell_type": "code",
   "execution_count": 23,
   "metadata": {
    "collapsed": true
   },
   "outputs": [],
   "source": [
    "x_val = x_train[:10000]\n",
    "partial_x_train = x_train[10000:]\n",
    "y_val = y_train[:10000]\n",
    "partial_y_train = y_train[10000:]"
   ]
  },
  {
   "cell_type": "code",
   "execution_count": 47,
   "metadata": {},
   "outputs": [
    {
     "name": "stdout",
     "output_type": "stream",
     "text": [
      "Train on 15000 samples, validate on 10000 samples\n",
      "Epoch 1/20\n",
      "15000/15000 [==============================] - 2s 125us/step - loss: 0.5208 - binary_accuracy: 0.7754 - val_loss: 0.3976 - val_binary_accuracy: 0.8492\n",
      "Epoch 2/20\n",
      "15000/15000 [==============================] - 1s 93us/step - loss: 0.3099 - binary_accuracy: 0.8995 - val_loss: 0.3091 - val_binary_accuracy: 0.8812\n",
      "Epoch 3/20\n",
      "15000/15000 [==============================] - 1s 97us/step - loss: 0.2263 - binary_accuracy: 0.9267 - val_loss: 0.2717 - val_binary_accuracy: 0.8908\n",
      "Epoch 4/20\n",
      "15000/15000 [==============================] - 2s 109us/step - loss: 0.1807 - binary_accuracy: 0.9429 - val_loss: 0.2664 - val_binary_accuracy: 0.8901\n",
      "Epoch 5/20\n",
      "15000/15000 [==============================] - 2s 111us/step - loss: 0.1470 - binary_accuracy: 0.9538 - val_loss: 0.3314 - val_binary_accuracy: 0.8711\n",
      "Epoch 6/20\n",
      "15000/15000 [==============================] - 1s 90us/step - loss: 0.1255 - binary_accuracy: 0.9594 - val_loss: 0.2837 - val_binary_accuracy: 0.8851\n",
      "Epoch 7/20\n",
      "15000/15000 [==============================] - 2s 101us/step - loss: 0.1061 - binary_accuracy: 0.9666 - val_loss: 0.2965 - val_binary_accuracy: 0.8845\n",
      "Epoch 8/20\n",
      "15000/15000 [==============================] - 2s 104us/step - loss: 0.0891 - binary_accuracy: 0.9749 - val_loss: 0.3326 - val_binary_accuracy: 0.8795\n",
      "Epoch 9/20\n",
      "15000/15000 [==============================] - 1s 97us/step - loss: 0.0741 - binary_accuracy: 0.9804 - val_loss: 0.3724 - val_binary_accuracy: 0.8694\n",
      "Epoch 10/20\n",
      "15000/15000 [==============================] - 1s 93us/step - loss: 0.0642 - binary_accuracy: 0.9833 - val_loss: 0.3563 - val_binary_accuracy: 0.8774\n",
      "Epoch 11/20\n",
      "15000/15000 [==============================] - 1s 92us/step - loss: 0.0539 - binary_accuracy: 0.9865 - val_loss: 0.4203 - val_binary_accuracy: 0.8674\n",
      "Epoch 12/20\n",
      "15000/15000 [==============================] - 1s 93us/step - loss: 0.0487 - binary_accuracy: 0.9868 - val_loss: 0.4067 - val_binary_accuracy: 0.8748\n",
      "Epoch 13/20\n",
      "15000/15000 [==============================] - 1s 98us/step - loss: 0.0381 - binary_accuracy: 0.9909 - val_loss: 0.4438 - val_binary_accuracy: 0.8671\n",
      "Epoch 14/20\n",
      "15000/15000 [==============================] - 1s 94us/step - loss: 0.0324 - binary_accuracy: 0.9929 - val_loss: 0.4738 - val_binary_accuracy: 0.8685\n",
      "Epoch 15/20\n",
      "15000/15000 [==============================] - 1s 93us/step - loss: 0.0271 - binary_accuracy: 0.9945 - val_loss: 0.4877 - val_binary_accuracy: 0.8688\n",
      "Epoch 16/20\n",
      "15000/15000 [==============================] - 1s 99us/step - loss: 0.0237 - binary_accuracy: 0.9953 - val_loss: 0.5190 - val_binary_accuracy: 0.8674\n",
      "Epoch 17/20\n",
      "15000/15000 [==============================] - 2s 102us/step - loss: 0.0179 - binary_accuracy: 0.9967 - val_loss: 0.5408 - val_binary_accuracy: 0.8643\n",
      "Epoch 18/20\n",
      "15000/15000 [==============================] - 2s 101us/step - loss: 0.0146 - binary_accuracy: 0.9977 - val_loss: 0.5965 - val_binary_accuracy: 0.8616\n",
      "Epoch 19/20\n",
      "15000/15000 [==============================] - 2s 107us/step - loss: 0.0114 - binary_accuracy: 0.9984 - val_loss: 0.6202 - val_binary_accuracy: 0.8619\n",
      "Epoch 20/20\n",
      "15000/15000 [==============================] - 2s 111us/step - loss: 0.0104 - binary_accuracy: 0.9983 - val_loss: 0.6403 - val_binary_accuracy: 0.8597\n"
     ]
    }
   ],
   "source": [
    "history = model.fit(x=partial_x_train,y=partial_y_train,epochs=20,batch_size=512,validation_data=(x_val,y_val))"
   ]
  },
  {
   "cell_type": "code",
   "execution_count": 50,
   "metadata": {},
   "outputs": [],
   "source": [
    "def history_plot_loss(history):\n",
    "    history_dict = history.history\n",
    "    train_loss = history_dict['loss']\n",
    "    val_loss = history_dict['val_loss']\n",
    "    epochs = range(1, len(train_loss) + 1)\n",
    "    plt.plot(epochs,train_loss,'r',label='Tranning Loss')\n",
    "    plt.plot(epochs,val_loss,'g',label='Validation Loss')\n",
    "    plt.xlabel('epochs')\n",
    "    plt.ylabel('Loss')\n",
    "    plt.legend()\n",
    "    plt.show()"
   ]
  },
  {
   "cell_type": "code",
   "execution_count": 51,
   "metadata": {},
   "outputs": [
    {
     "data": {
      "image/png": "[encoded data removed]",
      "text/plain": [
       "<matplotlib.figure.Figure at 0x7f4af922dcf8>"
      ]
     },
     "metadata": {},
     "output_type": "display_data"
    }
   ],
   "source": [
    "history_plot_loss(history)"
   ]
  },
  {
   "cell_type": "code",
   "execution_count": 57,
   "metadata": {
    "collapsed": true
   },
   "outputs": [],
   "source": [
    "def history_plot_acc(history):\n",
    "    history_dict = history.history\n",
    "    train_acc = history_dict['binary_accuracy']\n",
    "    val_acc = history_dict['val_binary_accuracy']\n",
    "    epochs = range(1, len(train_acc) + 1)\n",
    "    plt.plot(epochs,train_acc,'r',label='Tranning Acc')\n",
    "    plt.plot(epochs,val_acc,'g',label='Validation Acc')\n",
    "    plt.xlabel('epochs')\n",
    "    plt.ylabel('Accuracy')\n",
    "    plt.legend()\n",
    "    plt.show()"
   ]
  },
  {
   "cell_type": "code",
   "execution_count": 58,
   "metadata": {},
   "outputs": [
    {
     "data": {
      "image/png": "[encoded data removed]",
      "text/plain": [
       "<matplotlib.figure.Figure at 0x7f4b1cee7ba8>"
      ]
     },
     "metadata": {},
     "output_type": "display_data"
    }
   ],
   "source": [
    "history_plot_acc(history)"
   ]
  },
  {
   "cell_type": "code",
   "execution_count": 65,
   "metadata": {},
   "outputs": [],
   "source": [
    "model1 = get_model(512,256)"
   ]
  },
  {
   "cell_type": "code",
   "execution_count": 66,
   "metadata": {},
   "outputs": [
    {
     "name": "stdout",
     "output_type": "stream",
     "text": [
      "Train on 15000 samples, validate on 10000 samples\n",
      "Epoch 1/5\n",
      "15000/15000 [==============================] - 21s 1ms/step - loss: 0.3748 - binary_accuracy: 0.8381 - val_loss: 0.3111 - val_binary_accuracy: 0.8698\n",
      "Epoch 2/5\n",
      "15000/15000 [==============================] - 21s 1ms/step - loss: 0.1771 - binary_accuracy: 0.9370 - val_loss: 0.2994 - val_binary_accuracy: 0.8888\n",
      "Epoch 3/5\n",
      "15000/15000 [==============================] - 21s 1ms/step - loss: 0.0770 - binary_accuracy: 0.9767 - val_loss: 0.6058 - val_binary_accuracy: 0.8536\n",
      "Epoch 4/5\n",
      "15000/15000 [==============================] - 21s 1ms/step - loss: 0.0278 - binary_accuracy: 0.9925 - val_loss: 0.6422 - val_binary_accuracy: 0.8846\n",
      "Epoch 5/5\n",
      "15000/15000 [==============================] - 21s 1ms/step - loss: 0.0189 - binary_accuracy: 0.9965 - val_loss: 0.8162 - val_binary_accuracy: 0.8841\n"
     ]
    }
   ],
   "source": [
    "history = model1.fit(x=partial_x_train,y=partial_y_train,epochs=5,batch_size=100,validation_data=(x_val,y_val))"
   ]
  },
  {
   "cell_type": "code",
   "execution_count": 67,
   "metadata": {},
   "outputs": [
    {
     "data": {
      "image/png": "[encoded data removed]",
      "text/plain": [
       "<matplotlib.figure.Figure at 0x7f4af8cdf128>"
      ]
     },
     "metadata": {},
     "output_type": "display_data"
    }
   ],
   "source": [
    "history_plot_acc(history)"
   ]
  },
  {
   "cell_type": "code",
   "execution_count": 68,
   "metadata": {},
   "outputs": [
    {
     "data": {
      "image/png": "[encoded data removed]",
      "text/plain": [
       "<matplotlib.figure.Figure at 0x7f4af387d438>"
      ]
     },
     "metadata": {},
     "output_type": "display_data"
    }
   ],
   "source": [
    "history_plot_loss(history)"
   ]
  },
  {
   "cell_type": "code",
   "execution_count": 69,
   "metadata": {
    "collapsed": true
   },
   "outputs": [],
   "source": [
    "model = get_model()"
   ]
  },
  {
   "cell_type": "code",
   "execution_count": 70,
   "metadata": {},
   "outputs": [
    {
     "name": "stdout",
     "output_type": "stream",
     "text": [
      "Train on 15000 samples, validate on 10000 samples\n",
      "Epoch 1/5\n",
      "15000/15000 [==============================] - 2s 109us/step - loss: 0.5117 - binary_accuracy: 0.7891 - val_loss: 0.3769 - val_binary_accuracy: 0.8733\n",
      "Epoch 2/5\n",
      "15000/15000 [==============================] - 1s 93us/step - loss: 0.3075 - binary_accuracy: 0.9029 - val_loss: 0.3049 - val_binary_accuracy: 0.8837\n",
      "Epoch 3/5\n",
      "15000/15000 [==============================] - 1s 97us/step - loss: 0.2299 - binary_accuracy: 0.9260 - val_loss: 0.2726 - val_binary_accuracy: 0.8920\n",
      "Epoch 4/5\n",
      "15000/15000 [==============================] - 2s 101us/step - loss: 0.1809 - binary_accuracy: 0.9433 - val_loss: 0.2671 - val_binary_accuracy: 0.8907\n",
      "Epoch 5/5\n",
      "15000/15000 [==============================] - 1s 94us/step - loss: 0.1517 - binary_accuracy: 0.9516 - val_loss: 0.2807 - val_binary_accuracy: 0.8856\n"
     ]
    },
    {
     "data": {
      "text/plain": [
       "<keras.callbacks.History at 0x7f4af372d1d0>"
      ]
     },
     "execution_count": 70,
     "metadata": {},
     "output_type": "execute_result"
    }
   ],
   "source": [
    "model.fit(x=partial_x_train,y=partial_y_train,epochs=5,batch_size=512,validation_data=(x_val,y_val))"
   ]
  },
  {
   "cell_type": "code",
   "execution_count": 71,
   "metadata": {},
   "outputs": [
    {
     "name": "stdout",
     "output_type": "stream",
     "text": [
      "25000/25000 [==============================] - 2s 87us/step\n"
     ]
    }
   ],
   "source": [
    "results = model.evaluate(x_test,y_test)"
   ]
  },
  {
   "cell_type": "code",
   "execution_count": 72,
   "metadata": {},
   "outputs": [
    {
     "data": {
      "text/plain": [
       "[0.31745030614852904, 0.87283999999999995]"
      ]
     },
     "execution_count": 72,
     "metadata": {},
     "output_type": "execute_result"
    }
   ],
   "source": [
    "results"
   ]
  },
  {
   "cell_type": "code",
   "execution_count": null,
   "metadata": {
    "collapsed": true
   },
   "outputs": [],
   "source": []
  },
  {
   "cell_type": "code",
   "execution_count": 73,
   "metadata": {
    "collapsed": true
   },
   "outputs": [],
   "source": [
    "def get_model_more_layer():\n",
    "    \n",
    "    model = models.Sequential()\n",
    "    model.add(layer=layers.Dense(units=32,activation=\"relu\",input_shape=(x_train.shape[1],)))\n",
    "    model.add(layer=layers.Dense(units=64,activation='relu'))\n",
    "    model.add(layer=layers.Dense(units=32,activation='relu'))\n",
    "    model.add(layer=layers.Dense(units=1,activation='sigmoid'))\n",
    "    model.compile(optimizer=optimizers.RMSprop(lr=0.001), loss=losses.binary_crossentropy,\n",
    "             metrics = [metrics.binary_accuracy]\n",
    "             )\n",
    "    return model"
   ]
  },
  {
   "cell_type": "code",
   "execution_count": 74,
   "metadata": {
    "collapsed": true
   },
   "outputs": [],
   "source": [
    "new_model = get_model_more_layer()"
   ]
  },
  {
   "cell_type": "code",
   "execution_count": 75,
   "metadata": {},
   "outputs": [
    {
     "name": "stdout",
     "output_type": "stream",
     "text": [
      "Train on 15000 samples, validate on 10000 samples\n",
      "Epoch 1/5\n",
      "15000/15000 [==============================] - 2s 134us/step - loss: 0.4979 - binary_accuracy: 0.7613 - val_loss: 0.3323 - val_binary_accuracy: 0.8741\n",
      "Epoch 2/5\n",
      "15000/15000 [==============================] - 2s 131us/step - loss: 0.2737 - binary_accuracy: 0.9003 - val_loss: 0.2736 - val_binary_accuracy: 0.8908\n",
      "Epoch 3/5\n",
      "15000/15000 [==============================] - 2s 132us/step - loss: 0.2021 - binary_accuracy: 0.9241 - val_loss: 0.2732 - val_binary_accuracy: 0.8890\n",
      "Epoch 4/5\n",
      "15000/15000 [==============================] - 2s 123us/step - loss: 0.1659 - binary_accuracy: 0.9401 - val_loss: 0.2876 - val_binary_accuracy: 0.8859\n",
      "Epoch 5/5\n",
      "15000/15000 [==============================] - 2s 122us/step - loss: 0.1148 - binary_accuracy: 0.9620 - val_loss: 0.3188 - val_binary_accuracy: 0.8832\n"
     ]
    }
   ],
   "source": [
    "new_history = new_model.fit(x=partial_x_train,y=partial_y_train,epochs=5,batch_size=512,validation_data=(x_val,y_val))"
   ]
  },
  {
   "cell_type": "code",
   "execution_count": 76,
   "metadata": {},
   "outputs": [
    {
     "data": {
      "image/png": "[encoded data removed]",
      "text/plain": [
       "<matplotlib.figure.Figure at 0x7f49f98c2320>"
      ]
     },
     "metadata": {},
     "output_type": "display_data"
    }
   ],
   "source": [
    "history_plot_acc(new_history)"
   ]
  },
  {
   "cell_type": "code",
   "execution_count": null,
   "metadata": {
    "collapsed": true
   },
   "outputs": [],
   "source": []
  },
  {
   "cell_type": "code",
   "execution_count": 77,
   "metadata": {
    "collapsed": true
   },
   "outputs": [],
   "source": [
    "def get_model_more_activation():\n",
    "    \n",
    "    model = models.Sequential()\n",
    "    model.add(layer=layers.Dense(units=32,activation=\"tanh\",input_shape=(x_train.shape[1],)))\n",
    "    model.add(layer=layers.Dense(units=64,activation='sigmoid'))\n",
    "    model.add(layer=layers.Dense(units=32,activation='relu'))\n",
    "    model.add(layer=layers.Dense(units=1,activation='sigmoid'))\n",
    "    model.compile(optimizer=optimizers.RMSprop(lr=0.001), loss=losses.binary_crossentropy,\n",
    "             metrics = [metrics.binary_accuracy]\n",
    "             )\n",
    "    return model"
   ]
  },
  {
   "cell_type": "code",
   "execution_count": 78,
   "metadata": {},
   "outputs": [
    {
     "name": "stdout",
     "output_type": "stream",
     "text": [
      "Train on 15000 samples, validate on 10000 samples\n",
      "Epoch 1/5\n",
      "15000/15000 [==============================] - 2s 138us/step - loss: 0.5040 - binary_accuracy: 0.7620 - val_loss: 0.3402 - val_binary_accuracy: 0.8707\n",
      "Epoch 2/5\n",
      "15000/15000 [==============================] - 2s 121us/step - loss: 0.2673 - binary_accuracy: 0.9017 - val_loss: 0.2907 - val_binary_accuracy: 0.8817\n",
      "Epoch 3/5\n",
      "15000/15000 [==============================] - 2s 133us/step - loss: 0.2022 - binary_accuracy: 0.9259 - val_loss: 0.3696 - val_binary_accuracy: 0.8516\n",
      "Epoch 4/5\n",
      "15000/15000 [==============================] - 2s 132us/step - loss: 0.1534 - binary_accuracy: 0.9470 - val_loss: 0.2901 - val_binary_accuracy: 0.8858\n",
      "Epoch 5/5\n",
      "15000/15000 [==============================] - 2s 140us/step - loss: 0.1232 - binary_accuracy: 0.9551 - val_loss: 0.3500 - val_binary_accuracy: 0.8756\n"
     ]
    }
   ],
   "source": [
    "new_model = get_model_more_layer()\n",
    "new_history = new_model.fit(x=partial_x_train,y=partial_y_train,epochs=5,batch_size=512,validation_data=(x_val,y_val))"
   ]
  },
  {
   "cell_type": "code",
   "execution_count": 79,
   "metadata": {},
   "outputs": [
    {
     "data": {
      "image/png": "[encoded data removed]",
      "text/plain": [
       "<matplotlib.figure.Figure at 0x7f49f9501a58>"
      ]
     },
     "metadata": {},
     "output_type": "display_data"
    }
   ],
   "source": [
    "history_plot_acc(new_history)"
   ]
  },
  {
   "cell_type": "code",
   "execution_count": null,
   "metadata": {
    "collapsed": true
   },
   "outputs": [],
   "source": []
  }
 ],
 "metadata": {
  "kernelspec": {
   "display_name": "Python 3",
   "language": "python",
   "name": "python3"
  },
  "language_info": {
   "codemirror_mode": {
    "name": "ipython",
    "version": 3
   },
   "file_extension": ".py",
   "mimetype": "text/x-python",
   "name": "python",
   "nbconvert_exporter": "python",
   "pygments_lexer": "ipython3",
   "version": "3.6.3"
  }
 },
 "nbformat": 4,
 "nbformat_minor": 2
}
