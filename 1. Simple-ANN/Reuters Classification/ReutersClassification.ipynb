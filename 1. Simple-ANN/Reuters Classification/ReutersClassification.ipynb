{
 "cells": [
  {
   "cell_type": "code",
   "execution_count": 1,
   "metadata": {},
   "outputs": [
    {
     "name": "stderr",
     "output_type": "stream",
     "text": [
      "Using TensorFlow backend.\n",
      "/home/ab/anaconda3/lib/python3.6/importlib/_bootstrap.py:219: RuntimeWarning: compiletime version 3.5 of module 'tensorflow.python.framework.fast_tensor_util' does not match runtime version 3.6\n",
      "  return f(*args, **kwds)\n"
     ]
    }
   ],
   "source": [
    "from keras.datasets import reuters"
   ]
  },
  {
   "cell_type": "code",
   "execution_count": 2,
   "metadata": {},
   "outputs": [],
   "source": [
    "(train_data,train_label), (test_data,test_label) = reuters.load_data()"
   ]
  },
  {
   "cell_type": "code",
   "execution_count": 3,
   "metadata": {},
   "outputs": [
    {
     "data": {
      "text/plain": [
       "30945"
      ]
     },
     "execution_count": 3,
     "metadata": {},
     "output_type": "execute_result"
    }
   ],
   "source": [
    "max(max(train_data))"
   ]
  },
  {
   "cell_type": "code",
   "execution_count": 4,
   "metadata": {},
   "outputs": [
    {
     "data": {
      "text/plain": [
       "30747"
      ]
     },
     "execution_count": 4,
     "metadata": {},
     "output_type": "execute_result"
    }
   ],
   "source": [
    "max(max(test_data))"
   ]
  },
  {
   "cell_type": "code",
   "execution_count": 5,
   "metadata": {
    "collapsed": true
   },
   "outputs": [],
   "source": [
    "import numpy as np"
   ]
  },
  {
   "cell_type": "code",
   "execution_count": 6,
   "metadata": {
    "collapsed": true
   },
   "outputs": [],
   "source": [
    "def vectorize(data,dimensions=31000):\n",
    "    result = np.zeros((len(data),dimensions))\n",
    "    for i, seq in enumerate(data):\n",
    "        result[i,seq] = 1\n",
    "    return result"
   ]
  },
  {
   "cell_type": "code",
   "execution_count": 7,
   "metadata": {
    "collapsed": true
   },
   "outputs": [],
   "source": [
    "x_train = vectorize(train_data)\n",
    "x_test = vectorize(test_data)"
   ]
  },
  {
   "cell_type": "code",
   "execution_count": 8,
   "metadata": {
    "collapsed": true
   },
   "outputs": [],
   "source": [
    "from keras import models\n",
    "from keras import layers\n",
    "from keras import optimizers\n",
    "from keras import metrics\n",
    "from keras import losses"
   ]
  },
  {
   "cell_type": "code",
   "execution_count": 9,
   "metadata": {
    "collapsed": true
   },
   "outputs": [],
   "source": [
    "from keras.utils.np_utils import to_categorical"
   ]
  },
  {
   "cell_type": "code",
   "execution_count": 10,
   "metadata": {
    "collapsed": true
   },
   "outputs": [],
   "source": [
    "y_train = to_categorical(train_label)\n",
    "y_test = to_categorical(test_label)"
   ]
  },
  {
   "cell_type": "code",
   "execution_count": 60,
   "metadata": {
    "collapsed": true
   },
   "outputs": [],
   "source": [
    "def create_model():\n",
    "    model = models.Sequential()\n",
    "    model.add(layers.Dense(64,activation='relu',input_shape=((31000,))))\n",
    "    model.add(layers.Dense(64,activation='relu'))\n",
    "    model.add(layers.Dense(64,activation='relu'))\n",
    "    model.add(layers.Dense(64,activation='relu'))\n",
    "    model.add(layers.Dense(46,activation='softmax'))\n",
    "    model.compile(optimizer=optimizers.RMSprop(lr=0.001), loss=losses.categorical_crossentropy, metrics=['accuracy'])\n",
    "    return model"
   ]
  },
  {
   "cell_type": "code",
   "execution_count": 13,
   "metadata": {
    "collapsed": true
   },
   "outputs": [],
   "source": [
    "model = create_model()"
   ]
  },
  {
   "cell_type": "code",
   "execution_count": 17,
   "metadata": {
    "collapsed": true
   },
   "outputs": [],
   "source": [
    "x_val = x_train[:1000]\n",
    "x_train_partial = x_train[1000:]\n",
    "y_val = y_train[:1000]\n",
    "y_train_partial = y_train[1000:]"
   ]
  },
  {
   "cell_type": "code",
   "execution_count": 18,
   "metadata": {},
   "outputs": [
    {
     "name": "stdout",
     "output_type": "stream",
     "text": [
      "Train on 7982 samples, validate on 1000 samples\n",
      "Epoch 1/20\n",
      "7982/7982 [==============================] - 5s 651us/step - loss: 2.6450 - acc: 0.4559 - val_loss: 1.7054 - val_acc: 0.5980\n",
      "Epoch 2/20\n",
      "7982/7982 [==============================] - 4s 523us/step - loss: 1.4822 - acc: 0.6793 - val_loss: 1.3808 - val_acc: 0.6880\n",
      "Epoch 3/20\n",
      "7982/7982 [==============================] - 4s 525us/step - loss: 1.1679 - acc: 0.7335 - val_loss: 1.2612 - val_acc: 0.7180\n",
      "Epoch 4/20\n",
      "7982/7982 [==============================] - 4s 539us/step - loss: 0.9670 - acc: 0.7731 - val_loss: 1.1800 - val_acc: 0.7360\n",
      "Epoch 5/20\n",
      "7982/7982 [==============================] - 4s 514us/step - loss: 0.7837 - acc: 0.8196 - val_loss: 1.1970 - val_acc: 0.7330\n",
      "Epoch 6/20\n",
      "7982/7982 [==============================] - 4s 522us/step - loss: 0.6498 - acc: 0.8470 - val_loss: 1.1937 - val_acc: 0.7390\n",
      "Epoch 7/20\n",
      "7982/7982 [==============================] - 4s 532us/step - loss: 0.5277 - acc: 0.8708 - val_loss: 1.2069 - val_acc: 0.7550\n",
      "Epoch 8/20\n",
      "7982/7982 [==============================] - 4s 514us/step - loss: 0.4243 - acc: 0.9005 - val_loss: 1.1414 - val_acc: 0.7750\n",
      "Epoch 9/20\n",
      "7982/7982 [==============================] - 4s 527us/step - loss: 0.3558 - acc: 0.9192 - val_loss: 1.3616 - val_acc: 0.7510\n",
      "Epoch 10/20\n",
      "7982/7982 [==============================] - 4s 524us/step - loss: 0.2985 - acc: 0.9334 - val_loss: 1.2342 - val_acc: 0.7760\n",
      "Epoch 11/20\n",
      "7982/7982 [==============================] - 4s 526us/step - loss: 0.2482 - acc: 0.9455 - val_loss: 1.1875 - val_acc: 0.7870\n",
      "Epoch 12/20\n",
      "7982/7982 [==============================] - 4s 462us/step - loss: 0.2235 - acc: 0.9509 - val_loss: 1.3583 - val_acc: 0.7570\n",
      "Epoch 13/20\n",
      "7982/7982 [==============================] - 3s 327us/step - loss: 0.1910 - acc: 0.9540 - val_loss: 1.2432 - val_acc: 0.7910\n",
      "Epoch 14/20\n",
      "7982/7982 [==============================] - 3s 331us/step - loss: 0.1705 - acc: 0.9558 - val_loss: 1.3251 - val_acc: 0.7840\n",
      "Epoch 15/20\n",
      "7982/7982 [==============================] - 3s 374us/step - loss: 0.1672 - acc: 0.9565 - val_loss: 1.3017 - val_acc: 0.7750\n",
      "Epoch 16/20\n",
      "7982/7982 [==============================] - 3s 342us/step - loss: 0.1476 - acc: 0.9580 - val_loss: 1.2962 - val_acc: 0.7890\n",
      "Epoch 17/20\n",
      "7982/7982 [==============================] - 3s 329us/step - loss: 0.1366 - acc: 0.9600 - val_loss: 1.3375 - val_acc: 0.7690\n",
      "Epoch 18/20\n",
      "7982/7982 [==============================] - 3s 328us/step - loss: 0.1353 - acc: 0.9565 - val_loss: 1.3679 - val_acc: 0.7850\n",
      "Epoch 19/20\n",
      "7982/7982 [==============================] - 3s 365us/step - loss: 0.1336 - acc: 0.9565 - val_loss: 1.3657 - val_acc: 0.7830\n",
      "Epoch 20/20\n",
      "7982/7982 [==============================] - 3s 328us/step - loss: 0.1203 - acc: 0.9585 - val_loss: 1.3596 - val_acc: 0.7740\n"
     ]
    }
   ],
   "source": [
    "history = model.fit(x=x_train_partial,y=y_train_partial,validation_data=(x_val,y_val),batch_size=512,epochs=20)"
   ]
  },
  {
   "cell_type": "code",
   "execution_count": 23,
   "metadata": {
    "collapsed": true
   },
   "outputs": [],
   "source": [
    "import matplotlib.pyplot as plt"
   ]
  },
  {
   "cell_type": "code",
   "execution_count": 26,
   "metadata": {
    "collapsed": true
   },
   "outputs": [],
   "source": [
    "def plot_loss(history):\n",
    "    val_loss = history.history['val_loss']\n",
    "    train_loss = history.history['loss'] \n",
    "    epochs = range(1,len(val_loss) + 1)\n",
    "    plt.plot(epochs,val_loss,'r',label='validation_loss')\n",
    "    plt.plot(epochs,train_loss,'g',label='train_loss')\n",
    "    plt.xlabel('Epochs')\n",
    "    plt.ylabel('Loss')\n",
    "    plt.legend()\n",
    "    plt.show()"
   ]
  },
  {
   "cell_type": "code",
   "execution_count": 28,
   "metadata": {},
   "outputs": [
    {
     "data": {
      "image/png": "[encoded data removed]",
      "text/plain": [
       "<matplotlib.figure.Figure at 0x7f8f51124358>"
      ]
     },
     "metadata": {},
     "output_type": "display_data"
    }
   ],
   "source": [
    "plot_loss(history)"
   ]
  },
  {
   "cell_type": "code",
   "execution_count": 32,
   "metadata": {
    "collapsed": true
   },
   "outputs": [],
   "source": [
    "def plot_accuracy(history):\n",
    "    val_acc = history.history['val_acc']\n",
    "    train_acc = history.history['acc'] \n",
    "    epochs = range(1,len(val_acc) + 1)\n",
    "    plt.plot(epochs,val_acc,'r',label='validation_acc')\n",
    "    plt.plot(epochs,train_acc,'g',label='train_acc')\n",
    "    plt.xlabel('Epochs')\n",
    "    plt.ylabel('Accuracy')\n",
    "    plt.legend()\n",
    "    plt.show()"
   ]
  },
  {
   "cell_type": "code",
   "execution_count": 33,
   "metadata": {},
   "outputs": [
    {
     "data": {
      "image/png": "[encoded data removed]",
      "text/plain": [
       "<matplotlib.figure.Figure at 0x7f8f42f53278>"
      ]
     },
     "metadata": {},
     "output_type": "display_data"
    }
   ],
   "source": [
    "plot_accuracy(history)"
   ]
  },
  {
   "cell_type": "code",
   "execution_count": 61,
   "metadata": {
    "collapsed": true
   },
   "outputs": [],
   "source": [
    "model = create_model()"
   ]
  },
  {
   "cell_type": "code",
   "execution_count": 62,
   "metadata": {},
   "outputs": [
    {
     "name": "stdout",
     "output_type": "stream",
     "text": [
      "Epoch 1/7\n",
      "8982/8982 [==============================] - 4s 482us/step - loss: 2.6237 - acc: 0.4304\n",
      "Epoch 2/7\n",
      "8982/8982 [==============================] - 4s 425us/step - loss: 1.4252 - acc: 0.6870\n",
      "Epoch 3/7\n",
      "8982/8982 [==============================] - 4s 433us/step - loss: 1.0811 - acc: 0.7524\n",
      "Epoch 4/7\n",
      "8982/8982 [==============================] - 6s 684us/step - loss: 0.8229 - acc: 0.8194\n",
      "Epoch 5/7\n",
      "8982/8982 [==============================] - 6s 673us/step - loss: 0.6385 - acc: 0.8587\n",
      "Epoch 6/7\n",
      "8982/8982 [==============================] - 6s 648us/step - loss: 0.4935 - acc: 0.8925\n",
      "Epoch 7/7\n",
      "8982/8982 [==============================] - 6s 619us/step - loss: 0.3969 - acc: 0.9123\n"
     ]
    },
    {
     "data": {
      "text/plain": [
       "<keras.callbacks.History at 0x7f8e8fb27048>"
      ]
     },
     "execution_count": 62,
     "metadata": {},
     "output_type": "execute_result"
    }
   ],
   "source": [
    "model.fit(x=x_train,y=y_train,batch_size=512,epochs=7)"
   ]
  },
  {
   "cell_type": "code",
   "execution_count": null,
   "metadata": {
    "collapsed": true
   },
   "outputs": [],
   "source": []
  },
  {
   "cell_type": "code",
   "execution_count": 63,
   "metadata": {},
   "outputs": [
    {
     "name": "stdout",
     "output_type": "stream",
     "text": [
      "2246/2246 [==============================] - 1s 483us/step\n"
     ]
    }
   ],
   "source": [
    "result = model.evaluate(x_test,y_test)"
   ]
  },
  {
   "cell_type": "code",
   "execution_count": 64,
   "metadata": {},
   "outputs": [
    {
     "data": {
      "text/plain": [
       "[1.1694107514242986, 0.75957257351701213]"
      ]
     },
     "execution_count": 64,
     "metadata": {},
     "output_type": "execute_result"
    }
   ],
   "source": [
    "result"
   ]
  },
  {
   "cell_type": "code",
   "execution_count": 41,
   "metadata": {
    "collapsed": true
   },
   "outputs": [],
   "source": [
    "def create_model_new():\n",
    "    model = models.Sequential()\n",
    "    model.add(layers.Dense(64,activation='relu',input_shape=((31000,))))\n",
    "    model.add(layers.Dense(64,activation='relu'))\n",
    "    model.add(layers.Dense(46,activation='softmax'))\n",
    "    model.compile(optimizer=optimizers.RMSprop(lr=0.001), loss=losses.categorical_crossentropy, metrics=['accuracy'])\n",
    "    return model"
   ]
  },
  {
   "cell_type": "code",
   "execution_count": 47,
   "metadata": {
    "collapsed": true
   },
   "outputs": [],
   "source": [
    "model = create_model_new()"
   ]
  },
  {
   "cell_type": "code",
   "execution_count": 48,
   "metadata": {},
   "outputs": [
    {
     "name": "stdout",
     "output_type": "stream",
     "text": [
      "Epoch 1/5\n",
      "8982/8982 [==============================] - 4s 451us/step - loss: 2.4585 - acc: 0.5577\n",
      "Epoch 2/5\n",
      "8982/8982 [==============================] - 4s 438us/step - loss: 1.2956 - acc: 0.7219\n",
      "Epoch 3/5\n",
      "8982/8982 [==============================] - 4s 424us/step - loss: 0.9394 - acc: 0.8047\n",
      "Epoch 4/5\n",
      "8982/8982 [==============================] - 4s 424us/step - loss: 0.7081 - acc: 0.8592\n",
      "Epoch 5/5\n",
      "8982/8982 [==============================] - 4s 432us/step - loss: 0.5414 - acc: 0.8969\n"
     ]
    },
    {
     "data": {
      "text/plain": [
       "<keras.callbacks.History at 0x7f8f50df7198>"
      ]
     },
     "execution_count": 48,
     "metadata": {},
     "output_type": "execute_result"
    }
   ],
   "source": [
    "model.fit(x=x_train,y=y_train,batch_size=512,epochs=5)"
   ]
  },
  {
   "cell_type": "code",
   "execution_count": 49,
   "metadata": {},
   "outputs": [
    {
     "name": "stdout",
     "output_type": "stream",
     "text": [
      "2246/2246 [==============================] - 1s 439us/step\n"
     ]
    }
   ],
   "source": [
    "result = model.evaluate(x_test,y_test)"
   ]
  },
  {
   "cell_type": "code",
   "execution_count": 50,
   "metadata": {},
   "outputs": [
    {
     "data": {
      "text/plain": [
       "[0.97459072039154948, 0.78673196799608602]"
      ]
     },
     "execution_count": 50,
     "metadata": {},
     "output_type": "execute_result"
    }
   ],
   "source": [
    "result"
   ]
  },
  {
   "cell_type": "code",
   "execution_count": null,
   "metadata": {
    "collapsed": true
   },
   "outputs": [],
   "source": []
  },
  {
   "cell_type": "code",
   "execution_count": null,
   "metadata": {
    "collapsed": true
   },
   "outputs": [],
   "source": []
  }
 ],
 "metadata": {
  "kernelspec": {
   "display_name": "Python 3",
   "language": "python",
   "name": "python3"
  },
  "language_info": {
   "codemirror_mode": {
    "name": "ipython",
    "version": 3
   },
   "file_extension": ".py",
   "mimetype": "text/x-python",
   "name": "python",
   "nbconvert_exporter": "python",
   "pygments_lexer": "ipython3",
   "version": "3.6.3"
  }
 },
 "nbformat": 4,
 "nbformat_minor": 2
}
